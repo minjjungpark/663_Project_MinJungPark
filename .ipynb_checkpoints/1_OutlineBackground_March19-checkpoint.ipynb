{
 "metadata": {
  "name": "",
  "signature": "sha256:484b33ca322c0d9accd60602abcac76389392df853674b87305a38c7ec9d76af"
 },
 "nbformat": 3,
 "nbformat_minor": 0,
 "worksheets": [
  {
   "cells": [
    {
     "cell_type": "markdown",
     "metadata": {},
     "source": [
      "#STA 663 Project Outline\n",
      "\n",
      "**Hierarchical Topic Models and the Nested Chinese Restaurant Process**\n",
      "\n",
      "David M. Blei, Thomas L. Griffiths, Michael I. Jordan and Joshua B. Tenenbaum\n",
      "\n",
      "The problem of this article is about finding topic hierarchies from data. This article uses the approach of the nested Chinese Restaurant Process(CRP) to address this problem. The concept of the nested CRP is, \u201cSuppose that there are an infinite number of infinite-table Chinese restaurants in a# city. One restaurant is determined to be the root restaurant and on each of its infinite tables is a card with the name of another restaurant. On each of the tables in those restaurants are cards that refer to other restaurants and this structure repeats infinitely. Thus, the restaurants in the city are organized into an infinitely-branched tree. Note that each restaurant is associated with a level in this tree.\u201d This article applies this concept to the problem of document classification, which is a hierarchical topic model. \n",
      "\n",
      "The algorithm of this hierarchical topic model starts with choosing a path from the root of the tree (document, C(1)) to a leaf (document, C(L)) where l indicates levels of the tree from 1 to L. For each level, draw a topic from document C(l-1) and set C(l) to be the document referred to by that topic. Then, draw a vector of topic proportions from an L-dimensional Dirichlet distribution. For each word n which is from 1 to N, draw z from multinomial distribution with L-dimensional topic proportion vector where z is from 1 to L. Then, draw word n from the topic associated with document C(z).\n",
      "\n",
      "The advantage of this model is that it could be useful than just topic model in terms of organizing the topics according to a hierarchy. The disadvantage is that there is a only single path in the tree documents can follow.\n"
     ]
    }
   ],
   "metadata": {}
  }
 ]
}