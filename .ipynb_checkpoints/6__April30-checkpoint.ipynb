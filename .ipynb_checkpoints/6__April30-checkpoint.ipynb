{
 "metadata": {
  "name": "",
  "signature": "sha256:dba33eccaea25beb17d703f93d126d766343654b95b6b2f6fe9519fad46643d6"
 },
 "nbformat": 3,
 "nbformat_minor": 0,
 "worksheets": [
  {
   "cells": [
    {
     "cell_type": "code",
     "collapsed": false,
     "input": [
      "import os\n",
      "import sys\n",
      "import glob\n",
      "import matplotlib.pyplot as plt\n",
      "import matplotlib.cm as cm\n",
      "import numpy as np\n",
      "import pandas as pd\n",
      "%matplotlib inline\n",
      "%precision 4\n",
      "plt.style.use('ggplot')"
     ],
     "language": "python",
     "metadata": {},
     "outputs": [],
     "prompt_number": 38
    },
    {
     "cell_type": "markdown",
     "metadata": {},
     "source": [
      "#**STA 663 Project Outline**\n",
      "\n",
      "##*Background Clustering and K-Means*\n",
      "\n",
      "Clustering is to assign a set of data points into clusters. It can be applied into the real life example. For instance, imagine you go to the IKEA. Items in the IKEA are usually well organized to be easily found. There are several sections we can choose; living room, Bedroom, Bathroom and so on. Also, a Bedroom part has some aspects like bedding, storage, etc. If we can quantify this qualitative data, these aspects for the Bedroom can be clustered into one categories. Clustering method can be useful in this case. Basically, the input of k-means algorithm is a dataset X of N points with a parameter K  indicating how many clusters are there. The output of it is a set of K cluster centroids and a labeling of X that assigns each of the points in X to a unique cluster. All points within a cluster are closer in distance to their centroid than other centroids.\n",
      "\n",
      "\n",
      "##*Scalable K-means++*\n",
      "\n",
      "Bahman Bahmani, Benjamin Moseley, Andrea Vattani, Ravi Kumar and Sergei Vassilvitskii\n",
      "\n",
      "Clustering is one of the most important issues in data mining. Especially, K-means is considered as the most popular clustering method. K-means has an advantage on its simplicity, just starting with randomly chosen initial centers, repeatedly assigning each input point to its nearest center, and then recalculating the centers given the assigned points. However, K-means also has a disadvantage on its time efficiency and quality. In this paper, they describe a pallel version of K-means++ initialization algorithm and prove its efficiency. Also, the main idea of their paper is that they want to implement sampling O(k) points in each round and repeat the process for O(log n) rounds rather than just sampling a single point in each pass of the k-mean++ algorithm. At the end of the algorithm, they are left with O(klogn) points that form a solution that is within a constant factor away from the optimum and then recluster these points into k initial centers for the Lloyd's iteration. They called this initialization algorithm k-means||\n",
      "\n",
      "k-means|| has several advantages. First, O(log n) iterations are not necessary. k-means|| can find better solution than any other meathod. Second, k-means|| is much faster than existing parallel algorithms for k-means. Third, the number of interations can be smallest."
     ]
    },
    {
     "cell_type": "markdown",
     "metadata": {},
     "source": [
      "##*Outline of algorithm*\n",
      "\n",
      "###**Algorithm 1, KMeans**"
     ]
    },
    {
     "cell_type": "code",
     "collapsed": false,
     "input": [
      "def KMeans(data,centroids,k): \n",
      "        \n",
      "    converged = False\n",
      "    cluster_values = []\n",
      "    iterations = 0\n",
      "        \n",
      "    while (not converged) and (iterations < 1000):\n",
      "        data_points = data[:, np.newaxis, :] \n",
      "        # data_points n x k x m by broadcasting\n",
      "        # To introduce the third dimension into data\n",
      "        \n",
      "        ## calculate the Euclidean distance between a centroid and a data point\n",
      "        euclidean_dist = (data_points - centroids) ** 2\n",
      "        sum_up_dist = np.sum(euclidean_dist, axis=2) # total distance over the 3rd axis (n x k)\n",
      "        \n",
      "        ## clustering, which cluster each data point belongs\n",
      "        min_dist = np.zeros(sum_up_dist.shape) # = n x k\n",
      "        min_dist[range(sum_up_dist.shape[0]), np.argmin(sum_up_dist, axis=1)] = 1\n",
      "        # [i,j] = 1 in matrix (n x k) if the ith data point belongs to cluster j\n",
      "        \n",
      "        ## clusters\n",
      "        cluster_val = np.sum(sum_up_dist[min_dist == True])\n",
      "        cluster_values.append(cluster_val)\n",
      "            \n",
      "        # new centroids\n",
      "        new_centroids = np.empty(centroids.shape)\n",
      "        for j in range(0, k):\n",
      "            if data[min_dist[:,j] == True,:].shape[0] == 0:\n",
      "                new_centroids[j] = centroids[j]\n",
      "            else:\n",
      "                new_centroids[j] = np.mean(data[min_dist[:,j] == True, :], axis=0)\n",
      "        # comparing centroids\n",
      "        if np.array_equal(centroids,new_centroids):\n",
      "            converged = True\n",
      "        else:\n",
      "            centroids = new_centroids\n",
      "            \n",
      "        iterations += 1\n",
      "    print (iterations, 'iterations are required to converge.')\n",
      "    return iterations, cluster_values, centroids, min_dist\n",
      "    "
     ],
     "language": "python",
     "metadata": {},
     "outputs": [],
     "prompt_number": 39
    },
    {
     "cell_type": "markdown",
     "metadata": {},
     "source": [
      "###**Algorithm 2, KMeans++**"
     ]
    },
    {
     "cell_type": "code",
     "collapsed": false,
     "input": [
      "def KMeansPlusPlus(data, k):\n",
      "    # choose 1 centroid randomly from the data \n",
      "    centroids = data[np.random.choice(range(data.shape[0]),1), :]\n",
      "    data_points = data[:, np.newaxis, :]\n",
      "    \n",
      "    ## run k-1 passes\n",
      "    while centroids.shape[0] < k :\n",
      "        # the process is the same as Kmeans\n",
      "        euclidean_dist = (data_points - centroids) ** 2\n",
      "        sum_up_dist = np.sum(euclidean_dist, axis=2)\n",
      "        min_dist = np.zeros(sum_up_dist.shape)\n",
      "        min_dist[range(sum_up_dist.shape[0]), np.argmin(sum_up_dist, axis=1)] = 1\n",
      "        cluster_val = np.sum(sum_up_dist[min_dist == True])\n",
      "            \n",
      "        ## probability distribution\n",
      "        prob_distribution = np.min(sum_up_dist, axis=1)/cluster_val\n",
      "\n",
      "        ## choose the next centroid by using prob_distribution\n",
      "        centroids = np.vstack([centroids, data[np.random.choice(range(data.shape[0]),1,p=prob_distribution), :]])\n",
      "    return centroids"
     ],
     "language": "python",
     "metadata": {},
     "outputs": [],
     "prompt_number": 40
    },
    {
     "cell_type": "markdown",
     "metadata": {},
     "source": [
      "###**Algorithm 3, Scalable KMeans++**"
     ]
    },
    {
     "cell_type": "code",
     "collapsed": false,
     "input": [
      "def ScalableKMeansPlusPlus(data, k, l, r):\n",
      "    centroids = data[np.random.choice(range(data.shape[0]),1), :]\n",
      "    data_points = data[:, np.newaxis, :]\n",
      "    passes = 0\n",
      "    \n",
      "    while passes < r:\n",
      "        euclidean_dist = (data_points - centroids) ** 2\n",
      "        sum_up_dist = np.sum(euclidean_dist, axis=2)\n",
      "        # the minimum distance\n",
      "        min = np.min(sum_up_dist, axis=1).reshape(-1,1)\n",
      "        # random matrix with the same size as min\n",
      "        random_matrix = np.random.rand(min.shape[0],min.shape[1])\n",
      "        # replace zeros in min with the lowest positive float\n",
      "        min[np.where(min==0)] = np.nextafter(0,1)\n",
      "        # (1.0/min)th root of random matrix\n",
      "        random_matrix = random_matrix ** (1.0/min) \n",
      "        # choose the highest l\n",
      "        center = data[np.argsort(random_matrix, axis=0)[:, 0]][::-1][:l, :]\n",
      "        # combine the new centroids with the old one\n",
      "        centroids = np.vstack((centroids, center))\n",
      "        passes += 1\n",
      "        # Finally we get a set of centroids which is higher than k\n",
      "    ## reduce this to k using KMeans++\n",
      "    euclidean_dist = (data_points - centroids) ** 2\n",
      "    sum_up_dist = np.sum(euclidean_dist, axis=2)\n",
      "    min_dist = np.zeros(sum_up_dist.shape)\n",
      "    min_dist[range(sum_up_dist.shape[0]), np.argmin(sum_up_dist, axis=1)] = 1\n",
      "    weights = np.array([np.count_nonzero(min_dist[:, i]) for i in range(centroids.shape[0])],dtype='float64').reshape(-1,1)\n",
      "    prob_distribution = weights/np.sum(weights)\n",
      "    centroids = data[np.random.choice(range(weights.shape[0]),k,p=prob_distribution.ravel()),:]\n",
      "    return centroids"
     ],
     "language": "python",
     "metadata": {},
     "outputs": [],
     "prompt_number": 46
    },
    {
     "cell_type": "markdown",
     "metadata": {},
     "source": [
      "##*Simulating data*"
     ]
    },
    {
     "cell_type": "code",
     "collapsed": false,
     "input": [
      "def data_generation(n):\n",
      "    mean1 = [10, 9]\n",
      "    cov1 = [[1, 0.5], [0.5, 1]]\n",
      "    data1 = np.random.multivariate_normal(mean1, cov1, n)\n",
      "\n",
      "    mean2 = [18, 19]\n",
      "    cov2 = [[1,0.5], [0.5, 1]]\n",
      "    data2 = np.random.multivariate_normal(mean2, cov2, n)\n",
      "\n",
      "    mean3 = [26, 27]\n",
      "    cov3 = [[1, 0.5], [0.5, 0.5]]\n",
      "    data3 = np.random.multivariate_normal(mean3, cov3, n)\n",
      "\n",
      "    data = np.vstack((data1, data2, data3))\n",
      "    np.random.shuffle(data)\n",
      "    print (data.shape)\n",
      "    return data"
     ],
     "language": "python",
     "metadata": {},
     "outputs": [],
     "prompt_number": 128
    },
    {
     "cell_type": "code",
     "collapsed": false,
     "input": [
      "### KMeans\n",
      "\n",
      "np.random.seed(190)\n",
      "n = 100000\n",
      "k = 3\n",
      "data = data_generation(n)\n",
      "\n",
      "centroids = data[np.random.choice(range(data.shape[0]), k, replace=False),:]\n",
      "\n",
      "colors = iter(['r','b','g'])\n",
      "result1 = KMeans(data,centroids, k)\n",
      "centroids1 = result1[2]\n",
      "min_dist1 = result1[3]\n",
      "\n",
      "for i in range (k):\n",
      "    plt.scatter(data[min_dist1[:,i] == True, :][:,0], data[min_dist1[:,i] == True, :][:,1], color=next(colors))\n",
      "for j in range(k):\n",
      "    plt.scatter(centroids1[j,0],centroids1[j,1],color='w',marker='x')    "
     ],
     "language": "python",
     "metadata": {},
     "outputs": [
      {
       "output_type": "stream",
       "stream": "stdout",
       "text": [
        "(300000, 2)\n",
        "(5, 'iterations are required to converge.')"
       ]
      },
      {
       "output_type": "stream",
       "stream": "stdout",
       "text": [
        "\n"
       ]
      },
      {
       "metadata": {},
       "output_type": "display_data",
       "png": "[encoded data removed]",
       "text": [
        "<matplotlib.figure.Figure at 0x7efffc6de9d0>"
       ]
      }
     ],
     "prompt_number": 175
    },
    {
     "cell_type": "code",
     "collapsed": false,
     "input": [
      "### KMeansPlusPlus\n",
      "np.random.seed(190)\n",
      "n = 100000\n",
      "k = 3\n",
      "data = data_generation(n)\n",
      "\n",
      "colors = iter(['r','b','g'])\n",
      "result2 = KMeans(data,KMeansPlusPlus(data,k),k)\n",
      "centroids2 = result2[2]\n",
      "min_dist2 = result2[3]\n",
      "\n",
      "for i in range (k):\n",
      "    plt.scatter(data[min_dist2[:,i] == True, :][:,0], data[min_dist2[:,i] == True, :][:,1], color=next(colors))\n",
      "for j in range(k):\n",
      "    plt.scatter(centroids2[j,0],centroids2[j,1],color='w',marker='x')  "
     ],
     "language": "python",
     "metadata": {},
     "outputs": [
      {
       "output_type": "stream",
       "stream": "stdout",
       "text": [
        "(300000, 2)\n",
        "(3, 'iterations are required to converge.')"
       ]
      },
      {
       "output_type": "stream",
       "stream": "stdout",
       "text": [
        "\n"
       ]
      },
      {
       "metadata": {},
       "output_type": "display_data",
       "png": "[encoded data removed]",
       "text": [
        "<matplotlib.figure.Figure at 0x7efffc09bdd0>"
       ]
      }
     ],
     "prompt_number": 174
    },
    {
     "cell_type": "code",
     "collapsed": false,
     "input": [
      "# Scalable KMeansPlusPlus\n",
      "np.random.seed(190)\n",
      "n = 100000\n",
      "k = 3\n",
      "data = data_generation(n)\n",
      "\n",
      "colors = iter(['r','b','g'])\n",
      "result3 = KMeans(data,ScalableKMeansPlusPlus(data, k, 2, 2),k)\n",
      "centroids3 = result3[2]\n",
      "min_dist3 = result3[3]\n",
      "for i in range (k):\n",
      "    plt.scatter(data[min_dist3[:,i] == True, :][:,0], data[min_dist3[:,i] == True, :][:,1], color=next(colors))\n",
      "for j in range(k):\n",
      "    plt.scatter(centroids3[j,0],centroids3[j,1],color='w',marker='x') "
     ],
     "language": "python",
     "metadata": {},
     "outputs": [
      {
       "output_type": "stream",
       "stream": "stdout",
       "text": [
        "(300000, 2)\n",
        "(2, 'iterations are required to converge.')"
       ]
      },
      {
       "output_type": "stream",
       "stream": "stdout",
       "text": [
        "\n"
       ]
      },
      {
       "metadata": {},
       "output_type": "display_data",
       "png": "[encoded data removed]",
       "text": [
        "<matplotlib.figure.Figure at 0x7efffc165c10>"
       ]
      }
     ],
     "prompt_number": 173
    },
    {
     "cell_type": "markdown",
     "metadata": {},
     "source": [
      "##*Comparison*"
     ]
    },
    {
     "cell_type": "code",
     "collapsed": false,
     "input": [
      "iteration = result1[0]\n",
      "print('iteration = ', iteration)\n",
      "result1[1][0]"
     ],
     "language": "python",
     "metadata": {},
     "outputs": [
      {
       "output_type": "stream",
       "stream": "stdout",
       "text": [
        "('iteration = ', 5)\n"
       ]
      },
      {
       "metadata": {},
       "output_type": "pyout",
       "prompt_number": 176,
       "text": [
        "16444739.6287"
       ]
      }
     ],
     "prompt_number": 176
    },
    {
     "cell_type": "code",
     "collapsed": false,
     "input": [
      "iteration = result2[0]\n",
      "print('iteration = ', iteration)\n",
      "result2[1][0]"
     ],
     "language": "python",
     "metadata": {},
     "outputs": [
      {
       "output_type": "stream",
       "stream": "stdout",
       "text": [
        "('iteration = ', 3)\n"
       ]
      },
      {
       "metadata": {},
       "output_type": "pyout",
       "prompt_number": 177,
       "text": [
        "918210.2055"
       ]
      }
     ],
     "prompt_number": 177
    },
    {
     "cell_type": "code",
     "collapsed": false,
     "input": [
      "iteration = result3[0]\n",
      "print('iteration = ', iteration)\n",
      "result3[1][0]"
     ],
     "language": "python",
     "metadata": {},
     "outputs": [
      {
       "output_type": "stream",
       "stream": "stdout",
       "text": [
        "('iteration = ', 2)\n"
       ]
      },
      {
       "metadata": {},
       "output_type": "pyout",
       "prompt_number": 178,
       "text": [
        "1194579.1451"
       ]
      }
     ],
     "prompt_number": 178
    },
    {
     "cell_type": "markdown",
     "metadata": {},
     "source": [
      "According to the above three results, we can conclude that the number of iterations in ScalableKMeansPlusPlus algorithm is the smallest one. It means that algorithm3 is much more efficient than other algorithms. Also, the first cluster_values of ScalableKMeansPlusPlus is the highest one. It means that initial centroids chosen by ScalableKMeansPlusPlus is more efficient than others."
     ]
    },
    {
     "cell_type": "markdown",
     "metadata": {},
     "source": [
      "##*Profiling*"
     ]
    },
    {
     "cell_type": "code",
     "collapsed": false,
     "input": [
      "np.random.seed(190)\n",
      "n = 100000\n",
      "k = 3\n",
      "data = data_generation(n)"
     ],
     "language": "python",
     "metadata": {},
     "outputs": [
      {
       "output_type": "stream",
       "stream": "stdout",
       "text": [
        "(300000, 2)\n"
       ]
      }
     ],
     "prompt_number": 179
    },
    {
     "cell_type": "code",
     "collapsed": false,
     "input": [
      "! pip install --pre line-profiler &> /dev/null\n",
      "! pip install psutil &> /dev/null\n",
      "! pip install memory_profiler &> /dev/null"
     ],
     "language": "python",
     "metadata": {},
     "outputs": [],
     "prompt_number": 180
    },
    {
     "cell_type": "code",
     "collapsed": false,
     "input": [
      "%load_ext line_profiler"
     ],
     "language": "python",
     "metadata": {},
     "outputs": [
      {
       "output_type": "stream",
       "stream": "stdout",
       "text": [
        "The line_profiler extension is already loaded. To reload it, use:\n",
        "  %reload_ext line_profiler\n"
       ]
      }
     ],
     "prompt_number": 181
    },
    {
     "cell_type": "code",
     "collapsed": false,
     "input": [
      "%lprun -f KMeans KMeans(data,KMeansPlusPlus(data,3),3)"
     ],
     "language": "python",
     "metadata": {},
     "outputs": [
      {
       "output_type": "stream",
       "stream": "stdout",
       "text": [
        "(3, 'iterations are required to converge.')\n"
       ]
      }
     ],
     "prompt_number": 182
    },
    {
     "cell_type": "markdown",
     "metadata": {},
     "source": [
      "Looking at the result of profiling for KMeansPlusPlus, this algorithm spent most time on the clustering part. "
     ]
    },
    {
     "cell_type": "code",
     "collapsed": false,
     "input": [
      "%lprun -f KMeans KMeans(data,ScalableKMeansPlusPlus(data, 3, 2, 2),3)"
     ],
     "language": "python",
     "metadata": {},
     "outputs": [
      {
       "output_type": "stream",
       "stream": "stdout",
       "text": [
        "(10, 'iterations are required to converge.')\n"
       ]
      }
     ],
     "prompt_number": 183
    },
    {
     "cell_type": "markdown",
     "metadata": {},
     "source": [
      "ScalableMeansPlusPlus algorithm also spent most time on the clustering part."
     ]
    },
    {
     "cell_type": "code",
     "collapsed": false,
     "input": [],
     "language": "python",
     "metadata": {},
     "outputs": []
    }
   ],
   "metadata": {}
  }
 ]
}