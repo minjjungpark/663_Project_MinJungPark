{
 "metadata": {
  "name": "",
  "signature": "sha256:c8c7bbc8e519206894a79e8015a49d80bac0fda0d48589e25b43d150c03715cb"
 },
 "nbformat": 3,
 "nbformat_minor": 0,
 "worksheets": []
}