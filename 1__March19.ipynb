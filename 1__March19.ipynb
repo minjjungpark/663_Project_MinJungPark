{
 "metadata": {
  "name": "",
  "signature": "sha256:ea1c46cc7adc6cdf5505f1abcbe8bb1f53ded6b06cbbbc3fe27291067e910ca6"
 },
 "nbformat": 3,
 "nbformat_minor": 0,
 "worksheets": [
  {
   "cells": [
    {
     "cell_type": "markdown",
     "metadata": {},
     "source": [
      "#STA 663 Project Outline\n",
      "\n",
      "#**Scalable K-means++**\n",
      "\n",
      "Bahman Bahmani, Benjamin Moseley, Andrea Vattani, Ravi Kumar and Sergei Vassilvitskii\n",
      "\n",
      "Clustering is one of the most important issues in data mining. Especially, K-means is considered as the most popular clustering method. K-means has an advantage on its simplicity, just starting with randomly chosen initial centers, repeatedly assigning each input point to its nearest center, and then recalculating the centers given the assigned points. However, K-means also has a disadvantage on its time efficiency and quality. In this paper, they describe a pallel version of K-means++ initialization algorithm and prove its efficiency. Also, the main idea of their paper is that they want to implement sampling O(k) points in each round and repeat the process for O(log n) rounds rather than just sampling a single point in each pass of the k-mean++ algorithm. At the end of the algorithm, they are left with O(klogn) points that form a solution that is within a constant factor away from the optimum and then recluster these points into k initial centers for the Lloyd's iteration. They called this initialization algorithm k-means||\n",
      "\n",
      "k-means|| has several advantages. First, O(log n) iterations are not necessary. k-means|| can find better solution than any other meathod. Second, k-means|| is much faster than existing parallel algorithms for k-means. Third, the number of interations can be smallest."
     ]
    }
   ],
   "metadata": {}
  }
 ]
}