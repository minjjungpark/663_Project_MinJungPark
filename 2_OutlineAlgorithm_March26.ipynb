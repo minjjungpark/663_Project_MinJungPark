{
 "metadata": {
  "name": "",
  "signature": "sha256:527c797c57aceeaf3065a8658121f4767f402b9b85b59beb10efa2bce32d14a3"
 },
 "nbformat": 3,
 "nbformat_minor": 0,
 "worksheets": [
  {
   "cells": [
    {
     "cell_type": "markdown",
     "metadata": {},
     "source": [
      "# Pseudocode and Outline of algorithm\n",
      "\n",
      "1. Let c1 be the root restaurant\n",
      "2. For each level l in {2,...,L}\n",
      " - Draw a table from restaurant c(l-1). Set c(l) to be the restaurant referred to by that table.\n",
      "3. Draw an L-dimensional topic proportion vector {theta} from Dir({alpha})\n",
      "4. For each word n in {1,...,N}\n",
      " - Draw z in {1,...,L} from Mult({theta})\n",
      " - Draw w(n) from the topic associated with restaurant c(z)\n"
     ]
    }
   ],
   "metadata": {}
  }
 ]
}