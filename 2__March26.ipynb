{
 "metadata": {
  "name": "",
  "signature": "sha256:a7b5746c7234f77a5892ea2f3d616d8cf9ca22f067e207a46d0aa92a0afc0dea"
 },
 "nbformat": 3,
 "nbformat_minor": 0,
 "worksheets": [
  {
   "cells": [
    {
     "cell_type": "markdown",
     "metadata": {},
     "source": [
      "# Pseudocode and Outline of algorithm\n",
      "\n",
      "# Algorithm 1, k-means++(k)\n",
      "1. C <- sample a point uniformly at random from X\n",
      "2. while |C| < k do\n",
      "3. Sample x (in X) with a certain probability\n",
      "4. C <- C + {x}\n",
      "5. end while\n",
      "\n",
      " (From wikipedia) First, choose one center uniformly at random from among the data points. Second, for each data point x, compute D(x), the distance between x and the nearest center that has already been chosen. Third, choose one new data point at random as a new center, using a weighted probability distribution where a point x is chosen with probability proportional to D(x)2. Fourth, repeat Steps 2 and 3 until k centers have been chosen. Fifth, now that the initial centers have been chosen, proceed using standard k-means clustering.\n",
      "\n",
      "# Algorithm 2, k-means||(k,l)\n",
      "1. C <- sample a point uniformly at random from X\n",
      "2. psy <- phi\u001e",
      "X(C)\n",
      "3. for O(log psy) times do\n",
      "4. C' <- sample each point x (in X) independently with a certain probability\n",
      "5. C <- C + C'\n",
      "6. end for\n",
      "7. For x (in C), set wx to be the number of points in X closer to x than any other point in C\n",
      "8. Recluster the weighted points in C into k clusters"
     ]
    },
    {
     "cell_type": "code",
     "collapsed": false,
     "input": [],
     "language": "python",
     "metadata": {},
     "outputs": []
    }
   ],
   "metadata": {}
  }
 ]
}