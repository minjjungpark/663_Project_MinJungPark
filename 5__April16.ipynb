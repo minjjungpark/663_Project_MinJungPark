{
 "metadata": {
  "name": "",
  "signature": "sha256:4751520e4bfa8c5e629d0b96c1dfe6cdf144a5025fc802ee6dbf3f6e42449286"
 },
 "nbformat": 3,
 "nbformat_minor": 0,
 "worksheets": [
  {
   "cells": [
    {
     "cell_type": "code",
     "collapsed": false,
     "input": [
      "import numpy as np\n",
      "n = 100000\n",
      "\n",
      "mean = [0, 1, 2]\n",
      "cov = [[1, 0.5, 0.5], [0.5, 1, 0.5], [0.5, 0.5, 1]]\n",
      "data0 = np.random.multivariate_normal(mean, cov, n)\n",
      "data0 = np.hstack((data0, np.ones((data0.shape[0],1))))\n",
      "\n",
      "mean1 = [6, 8, 9]\n",
      "cov1 = [[1, 0.5, 0.5], [0.5, 1, 0.5], [0.5, 0.5, 1]]\n",
      "data1 = np.random.multivariate_normal(mean1, cov1, n)\n",
      "data1 = np.hstack((data1, np.ones((data1.shape[0],1)) * 2))\n",
      "\n",
      "mean2 = [15, 18, 19]\n",
      "cov2 = [[1, 0.5,0.5], [0.5, 1, 0.5], [0.5, 0.5, 1]]\n",
      "data2 = np.random.multivariate_normal(mean2, cov2, n)\n",
      "data2 = np.hstack((data2, np.ones((data2.shape[0],1)) * 3))\n",
      "\n",
      "mean3 = [25, 26, 27]\n",
      "cov3 = [[1, 0.5,0.5], [0.5, 1, 0.5], [0.5, 0.5, 1]]\n",
      "data3 = np.random.multivariate_normal(mean3, cov3, n)\n",
      "data3 = np.hstack((data3, np.ones((data3.shape[0],1)) * 4))\n",
      "\n",
      "data = np.vstack((data0, data1, data2, data3))\n",
      "np.random.shuffle(data)\n",
      "print (data.shape)\n",
      "print data"
     ],
     "language": "python",
     "metadata": {},
     "outputs": [
      {
       "output_type": "stream",
       "stream": "stdout",
       "text": [
        "(400000, 4)\n",
        "[[  5.04555195   5.78288954   8.25172119   2.        ]\n",
        " [  5.80235285   9.18327528   8.92160198   2.        ]\n",
        " [ 14.98918349  18.40130321  17.91843012   3.        ]\n",
        " ..., \n",
        " [ 15.46328107  19.16539123  18.96318542   3.        ]\n",
        " [  0.39748808   3.18583603   2.58184644   1.        ]\n",
        " [ 14.63816668  18.83347214  19.45894511   3.        ]]\n"
       ]
      }
     ],
     "prompt_number": 4
    },
    {
     "cell_type": "code",
     "collapsed": false,
     "input": [],
     "language": "python",
     "metadata": {},
     "outputs": []
    }
   ],
   "metadata": {}
  }
 ]
}