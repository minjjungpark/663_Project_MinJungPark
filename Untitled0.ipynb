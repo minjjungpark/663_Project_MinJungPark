{
 "metadata": {
  "name": "",
  "signature": "sha256:256b4294568fbb126673586a961235093df7621fc588441d4965b6542bb7c02c"
 },
 "nbformat": 3,
 "nbformat_minor": 0,
 "worksheets": [
  {
   "cells": [
    {
     "cell_type": "code",
     "collapsed": false,
     "input": [
      "!git status"
     ],
     "language": "python",
     "metadata": {},
     "outputs": [
      {
       "output_type": "stream",
       "stream": "stdout",
       "text": [
        "On branch master\r\n",
        "Your branch is up-to-date with 'origin/master'.\r\n",
        "\r\n",
        "Changes not staged for commit:\r\n",
        "  (use \"git add/rm <file>...\" to update what will be committed)\r\n",
        "  (use \"git checkout -- <file>...\" to discard changes in working directory)\r\n",
        "\r\n",
        "\t\u001b[31mmodified:   3_PythonCoding_April2.ipynb\u001b[m\r\n",
        "\t\u001b[31mdeleted:    Outline.ipynb\u001b[m\r\n",
        "\r\n",
        "Untracked files:\r\n",
        "  (use \"git add <file>...\" to include in what will be committed)\r\n",
        "\r\n",
        "\t\u001b[31m.ipynb_checkpoints/\u001b[m\r\n",
        "\t\u001b[31mUntitled0.ipynb\u001b[m\r\n",
        "\t\u001b[31mgit process.ipynb\u001b[m\r\n",
        "\r\n",
        "no changes added to commit (use \"git add\" and/or \"git commit -a\")\r\n"
       ]
      }
     ],
     "prompt_number": 1
    },
    {
     "cell_type": "code",
     "collapsed": false,
     "input": [
      "!git add -A"
     ],
     "language": "python",
     "metadata": {},
     "outputs": [],
     "prompt_number": 3
    },
    {
     "cell_type": "code",
     "collapsed": false,
     "input": [
      "!git commit -m \"coding\""
     ],
     "language": "python",
     "metadata": {},
     "outputs": [
      {
       "output_type": "stream",
       "stream": "stdout",
       "text": [
        "[master 27f3388] coding\r\n",
        " 7 files changed, 375 insertions(+), 2 deletions(-)\r\n",
        " rename Outline.ipynb => .ipynb_checkpoints/1_OutlineBackground_March19-checkpoint.ipynb (100%)\r\n",
        " create mode 100644 .ipynb_checkpoints/2_OutlineAlgorithm_March26-checkpoint.ipynb\r\n",
        " create mode 100644 .ipynb_checkpoints/3_PythonCoding_April2-checkpoint.ipynb\r\n",
        " create mode 100644 .ipynb_checkpoints/git process-checkpoint.ipynb\r\n",
        " create mode 100644 Untitled0.ipynb\r\n",
        " create mode 100644 git process.ipynb\r\n"
       ]
      }
     ],
     "prompt_number": 5
    },
    {
     "cell_type": "code",
     "collapsed": false,
     "input": [],
     "language": "python",
     "metadata": {},
     "outputs": []
    }
   ],
   "metadata": {}
  }
 ]
}