{
 "metadata": {
  "name": "",
  "signature": "sha256:14e0426b7cf25ea5d20c9850b09485c1eca495516b94c27682c7da9a6ea7f718"
 },
 "nbformat": 3,
 "nbformat_minor": 0,
 "worksheets": [
  {
   "cells": [
    {
     "cell_type": "code",
     "collapsed": false,
     "input": [
      "!git status"
     ],
     "language": "python",
     "metadata": {},
     "outputs": [
      {
       "output_type": "stream",
       "stream": "stdout",
       "text": [
        "On branch master\r\n",
        "Your branch is up-to-date with 'origin/master'.\r\n",
        "\r\n",
        "Changes not staged for commit:\r\n",
        "  (use \"git add/rm <file>...\" to update what will be committed)\r\n",
        "  (use \"git checkout -- <file>...\" to discard changes in working directory)\r\n",
        "\r\n",
        "\t\u001b[31mdeleted:    .ipynb_checkpoints/1_OutlineBackground_March19-checkpoint.ipynb\u001b[m\r\n",
        "\t\u001b[31mdeleted:    .ipynb_checkpoints/2_OutlineAlgorithm_March26-checkpoint.ipynb\u001b[m\r\n",
        "\t\u001b[31mdeleted:    .ipynb_checkpoints/3_PythonCoding_April2-checkpoint.ipynb\u001b[m\r\n",
        "\t\u001b[31mdeleted:    1_OutlineBackground_March19.ipynb\u001b[m\r\n",
        "\t\u001b[31mdeleted:    2_OutlineAlgorithm_March26.ipynb\u001b[m\r\n",
        "\t\u001b[31mdeleted:    3_PythonCoding_April2.ipynb\u001b[m\r\n",
        "\t\u001b[31mdeleted:    4_Inference_April9.ipynb\u001b[m\r\n",
        "\t\u001b[31mdeleted:    5_Analysis_April16.ipynb\u001b[m\r\n",
        "\t\u001b[31mdeleted:    6_Final_April30.ipynb\u001b[m\r\n",
        "\t\u001b[31mmodified:   Untitled0.ipynb\u001b[m\r\n",
        "\r\n",
        "Untracked files:\r\n",
        "  (use \"git add <file>...\" to include in what will be committed)\r\n",
        "\r\n",
        "\t\u001b[31m.ipynb_checkpoints/1__March19-checkpoint.ipynb\u001b[m\r\n",
        "\t\u001b[31m.ipynb_checkpoints/2__March26-checkpoint.ipynb\u001b[m\r\n",
        "\t\u001b[31m.ipynb_checkpoints/3__April2-checkpoint.ipynb\u001b[m\r\n",
        "\t\u001b[31m.ipynb_checkpoints/4__April9-checkpoint.ipynb\u001b[m\r\n",
        "\t\u001b[31m1__March19.ipynb\u001b[m\r\n",
        "\t\u001b[31m2__March26.ipynb\u001b[m\r\n",
        "\t\u001b[31m3__April2.ipynb\u001b[m\r\n",
        "\t\u001b[31m4__April9.ipynb\u001b[m\r\n",
        "\t\u001b[31m5__April16.ipynb\u001b[m\r\n",
        "\t\u001b[31m6__April30.ipynb\u001b[m\r\n",
        "\r\n",
        "no changes added to commit (use \"git add\" and/or \"git commit -a\")\r\n"
       ]
      }
     ],
     "prompt_number": 1
    },
    {
     "cell_type": "code",
     "collapsed": false,
     "input": [
      "!git add -A"
     ],
     "language": "python",
     "metadata": {},
     "outputs": [],
     "prompt_number": 2
    },
    {
     "cell_type": "code",
     "collapsed": false,
     "input": [
      "!git commit -m \"APRIL 9\""
     ],
     "language": "python",
     "metadata": {},
     "outputs": [
      {
       "output_type": "stream",
       "stream": "stdout",
       "text": [
        "[master 7d77f9d] APRIL 9\r\n",
        " 12 files changed, 541 insertions(+), 10 deletions(-)\r\n",
        " rename .ipynb_checkpoints/{1_OutlineBackground_March19-checkpoint.ipynb => 1__March19-checkpoint.ipynb} (100%)\r\n",
        " rename .ipynb_checkpoints/{2_OutlineAlgorithm_March26-checkpoint.ipynb => 2__March26-checkpoint.ipynb} (100%)\r\n",
        " rename .ipynb_checkpoints/{3_PythonCoding_April2-checkpoint.ipynb => 3__April2-checkpoint.ipynb} (100%)\r\n",
        " create mode 100644 .ipynb_checkpoints/4__April9-checkpoint.ipynb\r\n",
        " rename 1_OutlineBackground_March19.ipynb => 1__March19.ipynb (100%)\r\n",
        " rename 2_OutlineAlgorithm_March26.ipynb => 2__March26.ipynb (100%)\r\n",
        " rename 3_PythonCoding_April2.ipynb => 3__April2.ipynb (100%)\r\n",
        " create mode 100644 4__April9.ipynb\r\n",
        " rename 4_Inference_April9.ipynb => 5__April16.ipynb (100%)\r\n",
        " delete mode 100644 6_Final_April30.ipynb\r\n",
        " rename 5_Analysis_April16.ipynb => 6__April30.ipynb (100%)\r\n"
       ]
      }
     ],
     "prompt_number": 3
    },
    {
     "cell_type": "code",
     "collapsed": false,
     "input": [
      "!git status"
     ],
     "language": "python",
     "metadata": {},
     "outputs": [
      {
       "output_type": "stream",
       "stream": "stdout",
       "text": [
        "On branch master\r\n",
        "Your branch is up-to-date with 'origin/master'.\r\n",
        "\r\n",
        "Changes not staged for commit:\r\n",
        "  (use \"git add <file>...\" to update what will be committed)\r\n",
        "  (use \"git checkout -- <file>...\" to discard changes in working directory)\r\n",
        "\r\n",
        "\t\u001b[31mmodified:   .ipynb_checkpoints/1_OutlineBackground_March19-checkpoint.ipynb\u001b[m\r\n",
        "\t\u001b[31mmodified:   .ipynb_checkpoints/2_OutlineAlgorithm_March26-checkpoint.ipynb\u001b[m\r\n",
        "\t\u001b[31mmodified:   .ipynb_checkpoints/3_PythonCoding_April2-checkpoint.ipynb\u001b[m\r\n",
        "\t\u001b[31mmodified:   1_OutlineBackground_March19.ipynb\u001b[m\r\n",
        "\t\u001b[31mmodified:   2_OutlineAlgorithm_March26.ipynb\u001b[m\r\n",
        "\t\u001b[31mmodified:   3_PythonCoding_April2.ipynb\u001b[m\r\n",
        "\t\u001b[31mmodified:   Untitled0.ipynb\u001b[m\r\n",
        "\r\n",
        "Untracked files:\r\n",
        "  (use \"git add <file>...\" to include in what will be committed)\r\n",
        "\r\n",
        "\t\u001b[31m.ipynb_checkpoints/Untitled0-checkpoint.ipynb\u001b[m\r\n",
        "\t\u001b[31mkpp_N1000_K3.png\u001b[m\r\n",
        "\t\u001b[31mkpp_N1000_K6.png\u001b[m\r\n",
        "\t\u001b[31mkpp_N20000_K5.png\u001b[m\r\n",
        "\t\u001b[31mkpp_N2000_K5.png\u001b[m\r\n",
        "\t\u001b[31mkpp_N200_K3.png\u001b[m\r\n",
        "\t\u001b[31mkpp_N200_K5.png\u001b[m\r\n",
        "\t\u001b[31mkpp_init_N20000_K5.png\u001b[m\r\n",
        "\t\u001b[31mkpp_init_N200_K5.png\u001b[m\r\n",
        "\r\n",
        "no changes added to commit (use \"git add\" and/or \"git commit -a\")\r\n"
       ]
      }
     ],
     "prompt_number": 8
    },
    {
     "cell_type": "code",
     "collapsed": false,
     "input": [
      "! git add -A"
     ],
     "language": "python",
     "metadata": {},
     "outputs": [],
     "prompt_number": 9
    },
    {
     "cell_type": "code",
     "collapsed": false,
     "input": [
      "!git commit -m \"inital coding\""
     ],
     "language": "python",
     "metadata": {},
     "outputs": [
      {
       "output_type": "stream",
       "stream": "stdout",
       "text": [
        "[master ddc2d47] inital coding\r\n",
        " 16 files changed, 800 insertions(+), 330 deletions(-)\r\n",
        " rewrite .ipynb_checkpoints/1_OutlineBackground_March19-checkpoint.ipynb (86%)\r\n",
        " rewrite .ipynb_checkpoints/2_OutlineAlgorithm_March26-checkpoint.ipynb (65%)\r\n",
        " rewrite .ipynb_checkpoints/3_PythonCoding_April2-checkpoint.ipynb (95%)\r\n",
        " create mode 100644 .ipynb_checkpoints/Untitled0-checkpoint.ipynb\r\n",
        " rewrite 1_OutlineBackground_March19.ipynb (86%)\r\n",
        " rewrite 2_OutlineAlgorithm_March26.ipynb (65%)\r\n",
        " rewrite 3_PythonCoding_April2.ipynb (95%)\r\n",
        " create mode 100644 kpp_N1000_K3.png\r\n",
        " create mode 100644 kpp_N1000_K6.png\r\n",
        " create mode 100644 kpp_N20000_K5.png\r\n",
        " create mode 100644 kpp_N2000_K5.png\r\n",
        " create mode 100644 kpp_N200_K3.png\r\n",
        " create mode 100644 kpp_N200_K5.png\r\n",
        " create mode 100644 kpp_init_N20000_K5.png\r\n",
        " create mode 100644 kpp_init_N200_K5.png\r\n"
       ]
      }
     ],
     "prompt_number": 10
    },
    {
     "cell_type": "code",
     "collapsed": false,
     "input": [
      "!git push origin master"
     ],
     "language": "python",
     "metadata": {},
     "outputs": [
      {
       "output_type": "stream",
       "stream": "stdout",
       "text": [
        "Counting objects: 8, done.\r\n",
        "Delta compression using up to 2 threads.\r\n",
        "Compressing objects:  20% (1/5)   \r",
        "Compressing objects:  40% (2/5)   \r",
        "Compressing objects:  60% (3/5)   \r",
        "Compressing objects:  80% (4/5)   \r",
        "Compressing objects: 100% (5/5)   \r",
        "Compressing objects: 100% (5/5), done.\r\n",
        "Writing objects:  20% (1/5)   \r",
        "Writing objects:  40% (2/5)   \r",
        "Writing objects:  60% (3/5)   \r",
        "Writing objects:  80% (4/5)   \r",
        "Writing objects: 100% (5/5)   \r",
        "Writing objects: 100% (5/5), 3.75 KiB | 0 bytes/s, done.\r\n",
        "Total 5 (delta 2), reused 0 (delta 0)\r\n"
       ]
      },
      {
       "output_type": "stream",
       "stream": "stdout",
       "text": [
        "To git@github.com:minjjungpark/663_Project_MinJungPark.git\r\n",
        "   ddc2d47..7d77f9d  master -> master\r\n"
       ]
      }
     ],
     "prompt_number": 4
    },
    {
     "cell_type": "code",
     "collapsed": false,
     "input": [],
     "language": "python",
     "metadata": {},
     "outputs": []
    }
   ],
   "metadata": {}
  }
 ]
}