{
 "metadata": {
  "name": "",
  "signature": "sha256:abdc7017d6d2782db7b21ebcd50afbe11f450a09c9419a3ddadd63c2c3b4b1a3"
 },
 "nbformat": 3,
 "nbformat_minor": 0,
 "worksheets": [
  {
   "cells": [
    {
     "cell_type": "code",
     "collapsed": false,
     "input": [
      "!git status"
     ],
     "language": "python",
     "metadata": {},
     "outputs": [
      {
       "output_type": "stream",
       "stream": "stdout",
       "text": [
        "On branch master\r\n",
        "Your branch is up-to-date with 'origin/master'.\r\n",
        "\r\n",
        "Changes not staged for commit:\r\n",
        "  (use \"git add/rm <file>...\" to update what will be committed)\r\n",
        "  (use \"git checkout -- <file>...\" to discard changes in working directory)\r\n",
        "\r\n",
        "\t\u001b[31mmodified:   3_PythonCoding_April2.ipynb\u001b[m\r\n",
        "\t\u001b[31mdeleted:    Outline.ipynb\u001b[m\r\n",
        "\r\n",
        "Untracked files:\r\n",
        "  (use \"git add <file>...\" to include in what will be committed)\r\n",
        "\r\n",
        "\t\u001b[31m.ipynb_checkpoints/\u001b[m\r\n",
        "\t\u001b[31mUntitled0.ipynb\u001b[m\r\n",
        "\t\u001b[31mgit process.ipynb\u001b[m\r\n",
        "\r\n",
        "no changes added to commit (use \"git add\" and/or \"git commit -a\")\r\n"
       ]
      }
     ],
     "prompt_number": 1
    },
    {
     "cell_type": "code",
     "collapsed": false,
     "input": [
      "!git add -A"
     ],
     "language": "python",
     "metadata": {},
     "outputs": [],
     "prompt_number": 3
    },
    {
     "cell_type": "code",
     "collapsed": false,
     "input": [
      "!git commit -m \"coding\""
     ],
     "language": "python",
     "metadata": {},
     "outputs": [
      {
       "output_type": "stream",
       "stream": "stdout",
       "text": [
        "[master 27f3388] coding\r\n",
        " 7 files changed, 375 insertions(+), 2 deletions(-)\r\n",
        " rename Outline.ipynb => .ipynb_checkpoints/1_OutlineBackground_March19-checkpoint.ipynb (100%)\r\n",
        " create mode 100644 .ipynb_checkpoints/2_OutlineAlgorithm_March26-checkpoint.ipynb\r\n",
        " create mode 100644 .ipynb_checkpoints/3_PythonCoding_April2-checkpoint.ipynb\r\n",
        " create mode 100644 .ipynb_checkpoints/git process-checkpoint.ipynb\r\n",
        " create mode 100644 Untitled0.ipynb\r\n",
        " create mode 100644 git process.ipynb\r\n"
       ]
      }
     ],
     "prompt_number": 5
    },
    {
     "cell_type": "code",
     "collapsed": false,
     "input": [
      "!git status"
     ],
     "language": "python",
     "metadata": {},
     "outputs": [
      {
       "output_type": "stream",
       "stream": "stdout",
       "text": [
        "On branch master\r\n",
        "Your branch is up-to-date with 'origin/master'.\r\n",
        "\r\n",
        "Changes not staged for commit:\r\n",
        "  (use \"git add <file>...\" to update what will be committed)\r\n",
        "  (use \"git checkout -- <file>...\" to discard changes in working directory)\r\n",
        "\r\n",
        "\t\u001b[31mmodified:   .ipynb_checkpoints/1_OutlineBackground_March19-checkpoint.ipynb\u001b[m\r\n",
        "\t\u001b[31mmodified:   .ipynb_checkpoints/2_OutlineAlgorithm_March26-checkpoint.ipynb\u001b[m\r\n",
        "\t\u001b[31mmodified:   .ipynb_checkpoints/3_PythonCoding_April2-checkpoint.ipynb\u001b[m\r\n",
        "\t\u001b[31mmodified:   1_OutlineBackground_March19.ipynb\u001b[m\r\n",
        "\t\u001b[31mmodified:   2_OutlineAlgorithm_March26.ipynb\u001b[m\r\n",
        "\t\u001b[31mmodified:   3_PythonCoding_April2.ipynb\u001b[m\r\n",
        "\t\u001b[31mmodified:   Untitled0.ipynb\u001b[m\r\n",
        "\r\n",
        "Untracked files:\r\n",
        "  (use \"git add <file>...\" to include in what will be committed)\r\n",
        "\r\n",
        "\t\u001b[31m.ipynb_checkpoints/Untitled0-checkpoint.ipynb\u001b[m\r\n",
        "\t\u001b[31mkpp_N1000_K3.png\u001b[m\r\n",
        "\t\u001b[31mkpp_N1000_K6.png\u001b[m\r\n",
        "\t\u001b[31mkpp_N20000_K5.png\u001b[m\r\n",
        "\t\u001b[31mkpp_N2000_K5.png\u001b[m\r\n",
        "\t\u001b[31mkpp_N200_K3.png\u001b[m\r\n",
        "\t\u001b[31mkpp_N200_K5.png\u001b[m\r\n",
        "\t\u001b[31mkpp_init_N20000_K5.png\u001b[m\r\n",
        "\t\u001b[31mkpp_init_N200_K5.png\u001b[m\r\n",
        "\r\n",
        "no changes added to commit (use \"git add\" and/or \"git commit -a\")\r\n"
       ]
      }
     ],
     "prompt_number": 8
    },
    {
     "cell_type": "code",
     "collapsed": false,
     "input": [
      "! git add -A"
     ],
     "language": "python",
     "metadata": {},
     "outputs": [],
     "prompt_number": 9
    },
    {
     "cell_type": "code",
     "collapsed": false,
     "input": [
      "!git commit -m \"inital coding\""
     ],
     "language": "python",
     "metadata": {},
     "outputs": [
      {
       "output_type": "stream",
       "stream": "stdout",
       "text": [
        "[master ddc2d47] inital coding\r\n",
        " 16 files changed, 800 insertions(+), 330 deletions(-)\r\n",
        " rewrite .ipynb_checkpoints/1_OutlineBackground_March19-checkpoint.ipynb (86%)\r\n",
        " rewrite .ipynb_checkpoints/2_OutlineAlgorithm_March26-checkpoint.ipynb (65%)\r\n",
        " rewrite .ipynb_checkpoints/3_PythonCoding_April2-checkpoint.ipynb (95%)\r\n",
        " create mode 100644 .ipynb_checkpoints/Untitled0-checkpoint.ipynb\r\n",
        " rewrite 1_OutlineBackground_March19.ipynb (86%)\r\n",
        " rewrite 2_OutlineAlgorithm_March26.ipynb (65%)\r\n",
        " rewrite 3_PythonCoding_April2.ipynb (95%)\r\n",
        " create mode 100644 kpp_N1000_K3.png\r\n",
        " create mode 100644 kpp_N1000_K6.png\r\n",
        " create mode 100644 kpp_N20000_K5.png\r\n",
        " create mode 100644 kpp_N2000_K5.png\r\n",
        " create mode 100644 kpp_N200_K3.png\r\n",
        " create mode 100644 kpp_N200_K5.png\r\n",
        " create mode 100644 kpp_init_N20000_K5.png\r\n",
        " create mode 100644 kpp_init_N200_K5.png\r\n"
       ]
      }
     ],
     "prompt_number": 10
    },
    {
     "cell_type": "code",
     "collapsed": false,
     "input": [
      "!git push origin master"
     ],
     "language": "python",
     "metadata": {},
     "outputs": [
      {
       "output_type": "stream",
       "stream": "stdout",
       "text": [
        "Everything up-to-date\r\n"
       ]
      }
     ],
     "prompt_number": 13
    },
    {
     "cell_type": "code",
     "collapsed": false,
     "input": [],
     "language": "python",
     "metadata": {},
     "outputs": []
    }
   ],
   "metadata": {}
  }
 ]
}