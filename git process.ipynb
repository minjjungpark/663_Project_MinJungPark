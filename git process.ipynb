{
 "metadata": {
  "name": "",
  "signature": "sha256:365e74c30b3b1251b79f94ce0262a06ee37c2ef1d86c14f17a66c8b891e00911"
 },
 "nbformat": 3,
 "nbformat_minor": 0,
 "worksheets": [
  {
   "cells": [
    {
     "cell_type": "code",
     "collapsed": false,
     "input": [
      "!git pull\n"
     ],
     "language": "python",
     "metadata": {},
     "outputs": []
    },
    {
     "cell_type": "code",
     "collapsed": false,
     "input": [
      "!git add -A"
     ],
     "language": "python",
     "metadata": {},
     "outputs": [],
     "prompt_number": 14
    },
    {
     "cell_type": "code",
     "collapsed": false,
     "input": [
      "!git commit -m \"April 30\""
     ],
     "language": "python",
     "metadata": {},
     "outputs": [
      {
       "output_type": "stream",
       "stream": "stdout",
       "text": [
        "[master 8a57160] April 30\r\n",
        " 6 files changed, 1019 insertions(+), 1530 deletions(-)\r\n",
        " rewrite .ipynb_checkpoints/3__April2-checkpoint.ipynb (91%)\r\n",
        " rename .ipynb_checkpoints/{6__April30-checkpoint.ipynb => MINJUNG_PARK_FINAL_PROJECT-checkpoint.ipynb} (82%)\r\n",
        " rewrite 3__April2.ipynb (86%)\r\n",
        " rename 6__April30.ipynb => MINJUNG_PARK_FINAL_PROJECT.ipynb (82%)\r\n",
        " rewrite git process.ipynb (60%)\r\n"
       ]
      }
     ],
     "prompt_number": 15
    },
    {
     "cell_type": "code",
     "collapsed": false,
     "input": [
      "!git push origin master"
     ],
     "language": "python",
     "metadata": {},
     "outputs": [
      {
       "output_type": "stream",
       "stream": "stdout",
       "text": [
        "To git@github.com:minjjungpark/663_Project_MinJungPark.git\r\n",
        " ! [rejected]        master -> master (fetch first)\r\n",
        "error: failed to push some refs to 'git@github.com:minjjungpark/663_Project_MinJungPark.git'\r\n",
        "hint: Updates were rejected because the remote contains work that you do\r\n",
        "hint: not have locally. This is usually caused by another repository pushing\r\n",
        "hint: to the same ref. You may want to first integrate the remote changes\r\n",
        "hint: (e.g., 'git pull ...') before pushing again.\r\n",
        "hint: See the 'Note about fast-forwards' in 'git push --help' for details.\r\n"
       ]
      }
     ],
     "prompt_number": 16
    },
    {
     "cell_type": "code",
     "collapsed": false,
     "input": [],
     "language": "python",
     "metadata": {},
     "outputs": []
    }
   ],
   "metadata": {}
  }
 ]
}