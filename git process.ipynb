{
 "metadata": {
  "name": "",
  "signature": "sha256:d1e41190d4632edd8c7ba0f87847ef26e39428566a65d0057b201dbf23ae92e2"
 },
 "nbformat": 3,
 "nbformat_minor": 0,
 "worksheets": [
  {
   "cells": [
    {
     "cell_type": "code",
     "collapsed": false,
     "input": [
      "!git pull\n"
     ],
     "language": "python",
     "metadata": {},
     "outputs": [
      {
       "output_type": "stream",
       "stream": "stdout",
       "text": [
        "You have not concluded your merge (MERGE_HEAD exists).\r\n",
        "Please, commit your changes before you can merge.\r\n"
       ]
      }
     ],
     "prompt_number": 1
    },
    {
     "cell_type": "code",
     "collapsed": false,
     "input": [
      "!git add -A"
     ],
     "language": "python",
     "metadata": {},
     "outputs": [],
     "prompt_number": 3
    },
    {
     "cell_type": "code",
     "collapsed": false,
     "input": [
      "!git commit -m \"April 30\""
     ],
     "language": "python",
     "metadata": {},
     "outputs": [
      {
       "output_type": "stream",
       "stream": "stdout",
       "text": [
        "[master bead470] April 30\r\n",
        " 1 file changed, 3 insertions(+), 30 deletions(-)\r\n"
       ]
      }
     ],
     "prompt_number": 4
    },
    {
     "cell_type": "code",
     "collapsed": false,
     "input": [
      "!git push origin master"
     ],
     "language": "python",
     "metadata": {},
     "outputs": [
      {
       "output_type": "stream",
       "stream": "stdout",
       "text": [
        "Counting objects: 20, done.\r\n",
        "Delta compression using up to 2 threads.\r\n",
        "Compressing objects:   7% (1/14)   \r",
        "Compressing objects:  14% (2/14)   \r",
        "Compressing objects:  21% (3/14)   \r",
        "Compressing objects:  28% (4/14)   \r",
        "Compressing objects:  35% (5/14)   \r",
        "Compressing objects:  42% (6/14)   \r",
        "Compressing objects:  50% (7/14)   \r",
        "Compressing objects:  57% (8/14)   \r",
        "Compressing objects:  64% (9/14)   \r",
        "Compressing objects:  71% (10/14)   \r",
        "Compressing objects:  78% (11/14)   \r",
        "Compressing objects:  85% (12/14)   \r",
        "Compressing objects:  92% (13/14)   \r",
        "Compressing objects: 100% (14/14)   \r",
        "Compressing objects: 100% (14/14), done.\r\n",
        "Writing objects:   7% (1/14)   \r",
        "Writing objects:  14% (2/14)   \r",
        "Writing objects:  21% (3/14)   \r",
        "Writing objects:  28% (4/14)   \r",
        "Writing objects:  42% (6/14)   \r",
        "Writing objects:  50% (7/14)   \r",
        "Writing objects:  57% (8/14)   \r",
        "Writing objects:  64% (9/14)   \r",
        "Writing objects:  71% (10/14)   \r",
        "Writing objects:  92% (13/14)   \r",
        "Writing objects: 100% (14/14)   \r",
        "Writing objects: 100% (14/14), 30.28 KiB | 0 bytes/s, done.\r\n",
        "Total 14 (delta 10), reused 0 (delta 0)\r\n"
       ]
      },
      {
       "output_type": "stream",
       "stream": "stdout",
       "text": [
        "To git@github.com:minjjungpark/663_Project_MinJungPark.git\r\n",
        "   2d31dd9..bead470  master -> master\r\n"
       ]
      }
     ],
     "prompt_number": 5
    },
    {
     "cell_type": "code",
     "collapsed": false,
     "input": [
      "!giy ipython nbconvert --to latex --post PDF MINJUNG_PARK_FINAL_PROJECT.ipynb"
     ],
     "language": "python",
     "metadata": {},
     "outputs": [
      {
       "output_type": "stream",
       "stream": "stdout",
       "text": [
        "/bin/sh: 1: giy: not found\r\n"
       ]
      }
     ],
     "prompt_number": 7
    },
    {
     "cell_type": "code",
     "collapsed": false,
     "input": [],
     "language": "python",
     "metadata": {},
     "outputs": []
    }
   ],
   "metadata": {}
  }
 ]
}