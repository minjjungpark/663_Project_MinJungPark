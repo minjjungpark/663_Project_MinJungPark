{
 "metadata": {
  "name": "",
  "signature": "sha256:c1e78600b3a9f240e283bace33e1f38b5b51fd26832905f3e51d574aebccdd00"
 },
 "nbformat": 3,
 "nbformat_minor": 0,
 "worksheets": [
  {
   "cells": [
    {
     "cell_type": "code",
     "collapsed": false,
     "input": [
      "!git status"
     ],
     "language": "python",
     "metadata": {},
     "outputs": [
      {
       "output_type": "stream",
       "stream": "stdout",
       "text": [
        "On branch master\r\n",
        "Your branch is up-to-date with 'origin/master'.\r\n",
        "\r\n",
        "Changes not staged for commit:\r\n",
        "  (use \"git add <file>...\" to update what will be committed)\r\n",
        "  (use \"git checkout -- <file>...\" to discard changes in working directory)\r\n",
        "\r\n",
        "\t\u001b[31mmodified:   .ipynb_checkpoints/6__April30-checkpoint.ipynb\u001b[m\r\n",
        "\t\u001b[31mmodified:   6__April30.ipynb\u001b[m\r\n",
        "\r\n",
        "no changes added to commit (use \"git add\" and/or \"git commit -a\")\r\n"
       ]
      }
     ],
     "prompt_number": 5
    },
    {
     "cell_type": "code",
     "collapsed": false,
     "input": [
      "!git add \"6_Final_April30.ipynb\""
     ],
     "language": "python",
     "metadata": {},
     "outputs": [
      {
       "output_type": "stream",
       "stream": "stdout",
       "text": [
        "fatal: pathspec '6_Final_April30.ipynb' did not match any files\r\n"
       ]
      }
     ],
     "prompt_number": 2
    },
    {
     "cell_type": "code",
     "collapsed": false,
     "input": [
      "!git commit -m \"April 30"
     ],
     "language": "python",
     "metadata": {},
     "outputs": [
      {
       "output_type": "stream",
       "stream": "stdout",
       "text": [
        "/bin/sh: 1: Syntax error: Unterminated quoted string\r\n"
       ]
      }
     ],
     "prompt_number": 6
    },
    {
     "cell_type": "code",
     "collapsed": false,
     "input": [
      "!git push origin master"
     ],
     "language": "python",
     "metadata": {},
     "outputs": [
      {
       "output_type": "stream",
       "stream": "stdout",
       "text": [
        "Counting objects: 28, done.\r\n",
        "Delta compression using up to 2 threads.\r\n",
        "Compressing objects:   4% (1/21)   \r",
        "Compressing objects:   9% (2/21)   \r",
        "Compressing objects:  14% (3/21)   \r",
        "Compressing objects:  19% (4/21)   \r",
        "Compressing objects:  23% (5/21)   \r",
        "Compressing objects:  28% (6/21)   \r",
        "Compressing objects:  33% (7/21)   \r",
        "Compressing objects:  38% (8/21)   \r",
        "Compressing objects:  42% (9/21)   \r",
        "Compressing objects:  47% (10/21)   \r",
        "Compressing objects:  52% (11/21)   \r",
        "Compressing objects:  57% (12/21)   \r",
        "Compressing objects:  61% (13/21)   \r",
        "Compressing objects:  66% (14/21)   \r",
        "Compressing objects:  71% (15/21)   \r"
       ]
      },
      {
       "output_type": "stream",
       "stream": "stdout",
       "text": [
        "Compressing objects:  76% (16/21)   \r",
        "Compressing objects:  80% (17/21)   \r",
        "Compressing objects:  85% (18/21)   \r",
        "Compressing objects:  90% (19/21)   \r",
        "Compressing objects:  95% (20/21)   \r",
        "Compressing objects: 100% (21/21)   \r",
        "Compressing objects: 100% (21/21), done.\r\n",
        "Writing objects:   4% (1/21)   \r",
        "Writing objects:   9% (2/21)   \r",
        "Writing objects:  14% (3/21)   \r",
        "Writing objects:  19% (4/21)   \r",
        "Writing objects:  23% (5/21)   \r",
        "Writing objects:  28% (6/21)   \r",
        "Writing objects:  33% (7/21)   \r",
        "Writing objects:  42% (9/21)   \r",
        "Writing objects:  47% (10/21)   \r",
        "Writing objects:  52% (11/21)   \r",
        "Writing objects:  57% (12/21)   \r",
        "Writing objects:  61% (13/21)   \r",
        "Writing objects:  66% (14/21)   \r",
        "Writing objects:  76% (16/21)   \r",
        "Writing objects:  80% (17/21)   \r",
        "Writing objects:  85% (18/21)   \r",
        "Writing objects:  90% (19/21)   \r",
        "Writing objects:  95% (20/21)   \r",
        "Writing objects: 100% (21/21)   \r",
        "Writing objects: 100% (21/21), 92.17 KiB | 0 bytes/s, done.\r\n",
        "Total 21 (delta 15), reused 0 (delta 0)\r\n"
       ]
      },
      {
       "output_type": "stream",
       "stream": "stdout",
       "text": [
        "To git@github.com:minjjungpark/663_Project_MinJungPark.git\r\n",
        "   7d77f9d..7765186  master -> master\r\n"
       ]
      }
     ],
     "prompt_number": 4
    },
    {
     "cell_type": "code",
     "collapsed": false,
     "input": [],
     "language": "python",
     "metadata": {},
     "outputs": []
    }
   ],
   "metadata": {}
  }
 ]
}