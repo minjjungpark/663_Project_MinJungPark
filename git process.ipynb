{
 "metadata": {
  "name": "",
  "signature": "sha256:5b5e601fce360ec6c53e8f8f2bef6a07856ffb24477484cccca4f51a65638898"
 },
 "nbformat": 3,
 "nbformat_minor": 0,
 "worksheets": [
  {
   "cells": [
    {
     "cell_type": "code",
     "collapsed": false,
     "input": [
      "!git status"
     ],
     "language": "python",
     "metadata": {},
     "outputs": [
      {
       "output_type": "stream",
       "stream": "stdout",
       "text": [
        "On branch master\r\n",
        "Your branch is up-to-date with 'origin/master'.\r\n",
        "\r\n",
        "Changes not staged for commit:\r\n",
        "  (use \"git add/rm <file>...\" to update what will be committed)\r\n",
        "  (use \"git checkout -- <file>...\" to discard changes in working directory)\r\n",
        "\r\n",
        "\t\u001b[31mdeleted:    Outline.ipynb\u001b[m\r\n",
        "\r\n",
        "Untracked files:\r\n",
        "  (use \"git add <file>...\" to include in what will be committed)\r\n",
        "\r\n",
        "\t\u001b[31m.ipynb_checkpoints/\u001b[m\r\n",
        "\t\u001b[31m1_OutlineBackground_March19.ipynb\u001b[m\r\n",
        "\t\u001b[31m2_OutlineAlgorithm_March26.ipynb\u001b[m\r\n",
        "\t\u001b[31m3_PythonCoding_April2.ipynb\u001b[m\r\n",
        "\t\u001b[31m4_Inference_April9.ipynb\u001b[m\r\n",
        "\t\u001b[31m5_Analysis_April16.ipynb\u001b[m\r\n",
        "\t\u001b[31m6_Final_April30.ipynb\u001b[m\r\n",
        "\t\u001b[31mgit process.ipynb\u001b[m\r\n",
        "\r\n",
        "no changes added to commit (use \"git add\" and/or \"git commit -a\")\r\n"
       ]
      }
     ],
     "prompt_number": 5
    },
    {
     "cell_type": "code",
     "collapsed": false,
     "input": [
      "!git add \"6_Final_April30.ipynb\""
     ],
     "language": "python",
     "metadata": {},
     "outputs": [],
     "prompt_number": 22
    },
    {
     "cell_type": "code",
     "collapsed": false,
     "input": [
      "!git commit -m \"Sixth week\""
     ],
     "language": "python",
     "metadata": {},
     "outputs": [
      {
       "output_type": "stream",
       "stream": "stdout",
       "text": [
        "[master 5015df3] Sixth week\r\n",
        " 1 file changed, 9 insertions(+)\r\n",
        " create mode 100644 6_Final_April30.ipynb\r\n"
       ]
      }
     ],
     "prompt_number": 23
    },
    {
     "cell_type": "code",
     "collapsed": false,
     "input": [
      "!git push origin master"
     ],
     "language": "python",
     "metadata": {},
     "outputs": [
      {
       "output_type": "stream",
       "stream": "stdout",
       "text": [
        "Counting objects: 3, done.\r\n",
        "Delta compression using up to 2 threads.\r\n",
        "Compressing objects:  50% (1/2)   \r",
        "Compressing objects: 100% (2/2)   \r",
        "Compressing objects: 100% (2/2), done.\r\n",
        "Writing objects:  50% (1/2)   \r",
        "Writing objects: 100% (2/2)   \r",
        "Writing objects: 100% (2/2), 247 bytes | 0 bytes/s, done.\r\n",
        "Total 2 (delta 1), reused 0 (delta 0)\r\n"
       ]
      },
      {
       "output_type": "stream",
       "stream": "stdout",
       "text": [
        "To git@github.com:minjjungpark/663_Project_MinJungPark.git\r\n",
        "   eefc323..5015df3  master -> master\r\n"
       ]
      }
     ],
     "prompt_number": 24
    },
    {
     "cell_type": "code",
     "collapsed": false,
     "input": [],
     "language": "python",
     "metadata": {},
     "outputs": []
    }
   ],
   "metadata": {}
  }
 ]
}