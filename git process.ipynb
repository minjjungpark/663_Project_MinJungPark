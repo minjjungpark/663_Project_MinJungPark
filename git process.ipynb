{
 "metadata": {
  "name": "",
  "signature": "sha256:badbeeef52e595fa9275cdd7f9098f9718b1adddd436b21a424749a325a58172"
 },
 "nbformat": 3,
 "nbformat_minor": 0,
 "worksheets": [
  {
   "cells": [
    {
     "cell_type": "code",
     "collapsed": false,
     "input": [
      "!git status"
     ],
     "language": "python",
     "metadata": {},
     "outputs": [
      {
       "output_type": "stream",
       "stream": "stdout",
       "text": [
        "On branch master\r\n",
        "Your branch is up-to-date with 'origin/master'.\r\n",
        "\r\n",
        "Changes to be committed:\r\n",
        "  (use \"git reset HEAD <file>...\" to unstage)\r\n",
        "\r\n",
        "\t\u001b[32mmodified:   .ipynb_checkpoints/3__April2-checkpoint.ipynb\u001b[m\r\n",
        "\t\u001b[32mrenamed:    .ipynb_checkpoints/6__April30-checkpoint.ipynb -> .ipynb_checkpoints/MINJUNG_PARK_FINAL_PROJECT-checkpoint.ipynb\u001b[m\r\n",
        "\t\u001b[32mmodified:   2__March26.ipynb\u001b[m\r\n",
        "\t\u001b[32mmodified:   3__April2.ipynb\u001b[m\r\n",
        "\t\u001b[32mrenamed:    6__April30.ipynb -> MINJUNG_PARK_FINAL_PROJECT.ipynb\u001b[m\r\n",
        "\t\u001b[32mmodified:   git process.ipynb\u001b[m\r\n",
        "\r\n",
        "Changes not staged for commit:\r\n",
        "  (use \"git add <file>...\" to update what will be committed)\r\n",
        "  (use \"git checkout -- <file>...\" to discard changes in working directory)\r\n",
        "\r\n",
        "\t\u001b[31mmodified:   git process.ipynb\u001b[m\r\n",
        "\r\n"
       ]
      }
     ],
     "prompt_number": 13
    },
    {
     "cell_type": "code",
     "collapsed": false,
     "input": [
      "!git add -A"
     ],
     "language": "python",
     "metadata": {},
     "outputs": [],
     "prompt_number": 14
    },
    {
     "cell_type": "code",
     "collapsed": false,
     "input": [
      "!git commit -m \"April 30\""
     ],
     "language": "python",
     "metadata": {},
     "outputs": [
      {
       "output_type": "stream",
       "stream": "stdout",
       "text": [
        "[master 8a57160] April 30\r\n",
        " 6 files changed, 1019 insertions(+), 1530 deletions(-)\r\n",
        " rewrite .ipynb_checkpoints/3__April2-checkpoint.ipynb (91%)\r\n",
        " rename .ipynb_checkpoints/{6__April30-checkpoint.ipynb => MINJUNG_PARK_FINAL_PROJECT-checkpoint.ipynb} (82%)\r\n",
        " rewrite 3__April2.ipynb (86%)\r\n",
        " rename 6__April30.ipynb => MINJUNG_PARK_FINAL_PROJECT.ipynb (82%)\r\n",
        " rewrite git process.ipynb (60%)\r\n"
       ]
      }
     ],
     "prompt_number": 15
    },
    {
     "cell_type": "code",
     "collapsed": false,
     "input": [
      "!git push origin master"
     ],
     "language": "python",
     "metadata": {},
     "outputs": [
      {
       "output_type": "stream",
       "stream": "stdout",
       "text": [
        "To git@github.com:minjjungpark/663_Project_MinJungPark.git\r\n",
        " ! [rejected]        master -> master (fetch first)\r\n",
        "error: failed to push some refs to 'git@github.com:minjjungpark/663_Project_MinJungPark.git'\r\n",
        "hint: Updates were rejected because the remote contains work that you do\r\n",
        "hint: not have locally. This is usually caused by another repository pushing\r\n",
        "hint: to the same ref. You may want to first integrate the remote changes\r\n",
        "hint: (e.g., 'git pull ...') before pushing again.\r\n",
        "hint: See the 'Note about fast-forwards' in 'git push --help' for details.\r\n"
       ]
      }
     ],
     "prompt_number": 16
    },
    {
     "cell_type": "code",
     "collapsed": false,
     "input": [],
     "language": "python",
     "metadata": {},
     "outputs": []
    }
   ],
   "metadata": {}
  }
 ]
}